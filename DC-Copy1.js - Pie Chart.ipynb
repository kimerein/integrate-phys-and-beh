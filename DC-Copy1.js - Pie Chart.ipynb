{
 "cells": [
  {
   "cell_type": "code",
   "execution_count": 3,
   "metadata": {
    "collapsed": false
   },
   "outputs": [],
   "source": [
    "import pandas as pd\n",
    "import jinja2\n",
    "from IPython.display import display, Javascript, HTML"
   ]
  },
  {
   "cell_type": "markdown",
   "metadata": {},
   "source": [
    "> You may need to adjust the ***height*** depending on your output."
   ]
  },
  {
   "cell_type": "code",
   "execution_count": 4,
   "metadata": {
    "collapsed": false
   },
   "outputs": [],
   "source": [
    "def inline_dc(stuff):\n",
    "    \"\"\"\n",
    "    Embeds the HTML source of the dc charts directly into the IPython notebook.\n",
    "    \n",
    "    This method will not work if the dc charts depends on any files (json data). Also this uses\n",
    "    the HTML5 srcdoc attribute, which may not be supported in all browsers.\n",
    "    \"\"\"\n",
    "\n",
    "    return HTML('<iframe srcdoc=\"{srcdoc}\" style=\"width: 100%; height: 300px; border: none\"></iframe>'.format(srcdoc=stuff.replace('\"', '&quot;')))"
   ]
  },
  {
   "cell_type": "markdown",
   "metadata": {},
   "source": [
    "# Import JS libraries  \n",
    "\n",
    "> These may need to be updated as they rely on third party links"
   ]
  },
  {
   "cell_type": "code",
   "execution_count": 5,
   "metadata": {
    "collapsed": false
   },
   "outputs": [],
   "source": [
    "head = HTML(\"\"\"\n",
    "<head> \n",
    " \n",
    "<link rel=\"stylesheet\" type=\"text/css\" href=\"https://cdnjs.cloudflare.com/ajax/libs/dc/2.0.0-alpha.2/dc.css\"/> \n",
    "<script src=\"https://cdnjs.cloudflare.com/ajax/libs/d3/3.4.8/d3.min.js\"></script> \n",
    "<script src=\"https://cdnjs.cloudflare.com/ajax/libs/crossfilter/1.3.9/crossfilter.min.js\"></script> \n",
    "<script src=\"https://cdnjs.cloudflare.com/ajax/libs/dc/1.7.0/dc.min.js\"></script> \n",
    "\n",
    "</head>\n",
    "\"\"\")"
   ]
  },
  {
   "cell_type": "markdown",
   "metadata": {},
   "source": [
    "# Create Front-End"
   ]
  },
  {
   "cell_type": "code",
   "execution_count": 6,
   "metadata": {
    "collapsed": false
   },
   "outputs": [],
   "source": [
    "body_html = HTML(\"\"\"\n",
    "\n",
    "\n",
    "<!-- A div anchor that can be identified by id -->\n",
    "<div id=\"piechart\" class=\"dc-chart\">\n",
    "    <!-- Title or anything you want to add above the chart -->\n",
    "    <strong>Pie Chart</strong>\n",
    "    <!--\n",
    "        This will create a reset button when ever the user selects a filter.\n",
    "        Clicking on the reset button will remove all filters.\n",
    "     -->\n",
    "    <a class=\"reset\" href=\"javascript:PieChart.filterAll();dc.redrawAll();\" style=\"display: none;\">reset</a>\n",
    "    <div class=\"clearfix\"></div>\n",
    "    <!--\n",
    "        dc.js will also automatically inject applied current filter value into\n",
    "        any html element with css class set to \"filter\"\n",
    "    -->\n",
    "    <span class=\"reset\" style=\"display: none;\">Current filter: <span class=\"filter\"></span></span>\n",
    "    <br>\n",
    "    </br>\n",
    "</div>\n",
    "\n",
    "\n",
    "\"\"\")"
   ]
  },
  {
   "cell_type": "markdown",
   "metadata": {},
   "source": [
    "# Get Data"
   ]
  },
  {
   "cell_type": "code",
   "execution_count": 7,
   "metadata": {
    "collapsed": false
   },
   "outputs": [
    {
     "data": {
      "text/html": [
       "<div style=\"max-height:1000px;max-width:1500px;overflow:auto;\">\n",
       "<table border=\"1\" class=\"dataframe\">\n",
       "  <thead>\n",
       "    <tr style=\"text-align: right;\">\n",
       "      <th></th>\n",
       "      <th>age</th>\n",
       "      <th>population</th>\n",
       "      <th>state</th>\n",
       "      <th>state2</th>\n",
       "    </tr>\n",
       "  </thead>\n",
       "  <tbody>\n",
       "    <tr>\n",
       "      <th>0</th>\n",
       "      <td> 2</td>\n",
       "      <td> 234</td>\n",
       "      <td> a</td>\n",
       "      <td> d</td>\n",
       "    </tr>\n",
       "    <tr>\n",
       "      <th>1</th>\n",
       "      <td> 3</td>\n",
       "      <td> 345</td>\n",
       "      <td> b</td>\n",
       "      <td> c</td>\n",
       "    </tr>\n",
       "    <tr>\n",
       "      <th>2</th>\n",
       "      <td> 6</td>\n",
       "      <td> 345</td>\n",
       "      <td> c</td>\n",
       "      <td> b</td>\n",
       "    </tr>\n",
       "    <tr>\n",
       "      <th>3</th>\n",
       "      <td> 9</td>\n",
       "      <td>  34</td>\n",
       "      <td> d</td>\n",
       "      <td> a</td>\n",
       "    </tr>\n",
       "  </tbody>\n",
       "</table>\n",
       "</div>"
      ],
      "text/plain": [
       "   age  population state state2\n",
       "0    2         234     a      d\n",
       "1    3         345     b      c\n",
       "2    6         345     c      b\n",
       "3    9          34     d      a"
      ]
     },
     "execution_count": 7,
     "metadata": {},
     "output_type": "execute_result"
    }
   ],
   "source": [
    "df = pd.DataFrame({'population':[234,345,345,34],\n",
    "                   'age':[2,3,6,9],\n",
    "                   'state':['a','b','c','d'],\n",
    "                   'state2':['d','c','b','a']})\n",
    "df"
   ]
  },
  {
   "cell_type": "markdown",
   "metadata": {},
   "source": [
    "# Javascript Template"
   ]
  },
  {
   "cell_type": "code",
   "execution_count": 8,
   "metadata": {
    "collapsed": false
   },
   "outputs": [],
   "source": [
    "dc = jinja2.Template(\n",
    "\"\"\"   \n",
    "\n",
    "        // Create Global Variables\n",
    "        var PieChart = dc.pieChart(\"#piechart\");\n",
    "\n",
    "        // Load data\n",
    "        var dataset = {{ data }};\n",
    "\n",
    "        // Call function\n",
    "        Graph(dataset);\n",
    "\n",
    "\n",
    "// Create function\n",
    "function Graph(data) {\n",
    "\n",
    "   \n",
    "    // Feed it through crossfilter  \n",
    "    var ndx = crossfilter(data);\n",
    "    \n",
    "    // for testing\n",
    "    //console.log(data);\n",
    "\n",
    "    //define a dimension\n",
    "    //Here we will group by state\n",
    "    var dim = ndx.dimension(function(d) {return d.state});\n",
    "\n",
    "    //Here we group by state and sum on column population\n",
    "    var g = dim.group().reduceSum(function(d){return d.population;});\n",
    "    \n",
    "    //Lets create a pie chart\n",
    "    PieChart.dimension(dim)\n",
    "            .radius(90)\n",
    "            .innerRadius(45) // used to create the donut effect\n",
    "            .group(g)\n",
    "\n",
    "            // These last two lines are not needed but are\n",
    "            // here to show you how to create custom titles\n",
    "            .title(function(d){ return d.data.key +\": \"+d.value;})\n",
    "            .renderTitle(true);     \n",
    "\n",
    "    dc.renderAll(); // render all charts on the page\n",
    "    \n",
    "}; // end graph function    \n",
    "    \n",
    "\"\"\")\n",
    "\n"
   ]
  },
  {
   "cell_type": "markdown",
   "metadata": {},
   "source": [
    "# Bind data to JS Template"
   ]
  },
  {
   "cell_type": "code",
   "execution_count": 9,
   "metadata": {
    "collapsed": false
   },
   "outputs": [],
   "source": [
    "body_js = Javascript(dc.render(\n",
    "    data=df.to_json(orient='records')\n",
    "    ))"
   ]
  },
  {
   "cell_type": "markdown",
   "metadata": {},
   "source": [
    "# Push Data to the Notebook"
   ]
  },
  {
   "cell_type": "code",
   "execution_count": 10,
   "metadata": {
    "collapsed": false
   },
   "outputs": [
    {
     "data": {
      "text/html": [
       "<iframe srcdoc=\"\n",
       "<head> \n",
       " \n",
       "<link rel=&quot;stylesheet&quot; type=&quot;text/css&quot; href=&quot;https://cdnjs.cloudflare.com/ajax/libs/dc/2.0.0-alpha.2/dc.css&quot;/> \n",
       "<script src=&quot;https://cdnjs.cloudflare.com/ajax/libs/d3/3.4.8/d3.min.js&quot;></script> \n",
       "<script src=&quot;https://cdnjs.cloudflare.com/ajax/libs/crossfilter/1.3.9/crossfilter.min.js&quot;></script> \n",
       "<script src=&quot;https://cdnjs.cloudflare.com/ajax/libs/dc/1.7.0/dc.min.js&quot;></script> \n",
       "\n",
       "</head>\n",
       "\n",
       "\n",
       "\n",
       "<!-- A div anchor that can be identified by id -->\n",
       "<div id=&quot;piechart&quot; class=&quot;dc-chart&quot;>\n",
       "    <!-- Title or anything you want to add above the chart -->\n",
       "    <strong>Pie Chart</strong>\n",
       "    <!--\n",
       "        This will create a reset button when ever the user selects a filter.\n",
       "        Clicking on the reset button will remove all filters.\n",
       "     -->\n",
       "    <a class=&quot;reset&quot; href=&quot;javascript:PieChart.filterAll();dc.redrawAll();&quot; style=&quot;display: none;&quot;>reset</a>\n",
       "    <div class=&quot;clearfix&quot;></div>\n",
       "    <!--\n",
       "        dc.js will also automatically inject applied current filter value into\n",
       "        any html element with css class set to &quot;filter&quot;\n",
       "    -->\n",
       "    <span class=&quot;reset&quot; style=&quot;display: none;&quot;>Current filter: <span class=&quot;filter&quot;></span></span>\n",
       "    <br>\n",
       "    </br>\n",
       "</div>\n",
       "\n",
       "\n",
       "<script>   \n",
       "\n",
       "        // Create Global Variables\n",
       "        var PieChart = dc.pieChart(&quot;#piechart&quot;);\n",
       "\n",
       "        // Load data\n",
       "        var dataset = [{&quot;age&quot;:2,&quot;population&quot;:234,&quot;state&quot;:&quot;a&quot;,&quot;state2&quot;:&quot;d&quot;},{&quot;age&quot;:3,&quot;population&quot;:345,&quot;state&quot;:&quot;b&quot;,&quot;state2&quot;:&quot;c&quot;},{&quot;age&quot;:6,&quot;population&quot;:345,&quot;state&quot;:&quot;c&quot;,&quot;state2&quot;:&quot;b&quot;},{&quot;age&quot;:9,&quot;population&quot;:34,&quot;state&quot;:&quot;d&quot;,&quot;state2&quot;:&quot;a&quot;}];\n",
       "\n",
       "        // Call function\n",
       "        Graph(dataset);\n",
       "\n",
       "\n",
       "// Create function\n",
       "function Graph(data) {\n",
       "\n",
       "   \n",
       "    // Feed it through crossfilter  \n",
       "    var ndx = crossfilter(data);\n",
       "    \n",
       "    // for testing\n",
       "    //console.log(data);\n",
       "\n",
       "    //define a dimension\n",
       "    //Here we will group by state\n",
       "    var dim = ndx.dimension(function(d) {return d.state});\n",
       "\n",
       "    //Here we group by state and sum on column population\n",
       "    var g = dim.group().reduceSum(function(d){return d.population;});\n",
       "    \n",
       "    //Lets create a pie chart\n",
       "    PieChart.dimension(dim)\n",
       "            .radius(90)\n",
       "            .innerRadius(45) // used to create the donut effect\n",
       "            .group(g)\n",
       "\n",
       "            // These last two lines are not needed but are\n",
       "            // here to show you how to create custom titles\n",
       "            .title(function(d){ return d.data.key +&quot;: &quot;+d.value;})\n",
       "            .renderTitle(true);     \n",
       "\n",
       "    dc.renderAll(); // render all charts on the page\n",
       "    \n",
       "}; // end graph function    \n",
       "    </script>\" style=\"width: 100%; height: 300px; border: none\"></iframe>"
      ],
      "text/plain": [
       "<IPython.core.display.HTML at 0xaaee6d8>"
      ]
     },
     "execution_count": 10,
     "metadata": {},
     "output_type": "execute_result"
    }
   ],
   "source": [
    "inline_dc(head.data + body_html.data + \"<script>\" + body_js.data + \"</script>\")"
   ]
  },
  {
   "cell_type": "markdown",
   "metadata": {},
   "source": [
    "**Author:** [David Rojas LLC](http://hdrojas.pythonanywhere.com/)  "
   ]
  }
 ],
 "metadata": {},
 "nbformat": 4,
 "nbformat_minor": 2
}
